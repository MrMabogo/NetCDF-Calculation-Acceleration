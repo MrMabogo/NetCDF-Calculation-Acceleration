{
 "cells": [
  {
   "cell_type": "code",
   "execution_count": null,
   "metadata": {},
   "outputs": [],
   "source": [
    "import xarray as xr\n",
    "import matplotlib.pyplot as plt\n",
    "import dask\n",
    "import dask.array as darr\n",
    "from dask.distributed import Client\n",
    "import math\n",
    "\n",
    "import numpy as np\n",
    "from scipy.interpolate import RectBivariateSpline as rbv\n",
    "from scipy.interpolate import interpn"
   ]
  },
  {
   "cell_type": "code",
   "execution_count": null,
   "metadata": {},
   "outputs": [],
   "source": [
    "cl = Client(n_workers=2, processes=False)\n",
    "grd = xr.open_dataset(\"grd_wcofs_large_visc200.nc\")\n",
    "dat = xr.open_mfdataset(\"zuvt_qck_Exp41_35*.nc\", parallel=True, chunks={\"ocean_time\":48, \"eta_rho\":600, \"xi_rho\":300}, combine=\"by_coords\")\n",
    "cl"
   ]
  },
  {
   "cell_type": "code",
   "execution_count": null,
   "metadata": {},
   "outputs": [],
   "source": [
    "zeta = dat[\"zeta\"]\n",
    "lonrs = grd.coords[\"lon_rho\"]\n",
    "latrs = grd.coords[\"lat_rho\"]\n",
    "lonu = grd[\"lon_u\"]\n",
    "latu = grd[\"lat_u\"]\n",
    "lonv = grd[\"lon_v\"]\n",
    "latv = grd[\"lat_v\"]\n",
    "mr = grd[\"mask_rho\"]\n",
    "#size of ROMS grid\n",
    "dx = 1/grd[\"pm\"]*mr #.fillna(0.0)\n",
    "dy = 1/grd[\"pn\"]*mr #.fillna(0.0)\n",
    "cp = grd[\"f\"]*mr #.fillna(0.0) #coriolis parameter\n",
    "\n",
    "dx1, dx2 = dx[:, :-1], dx[:, 1:]\n",
    "dy1, dy2 = dy[:-1, :], dy[1:, :]\n",
    "dx_u = .5*(dx1 + dx2)\n",
    "dy_v = .5*(dy1 + dy2)\n",
    "\n",
    "fu1, fu2 = cp[:, :-1], cp[:, 1:]\n",
    "fv1, fv2 = cp[:-1, :], cp[1:, :]\n",
    "f_u = .5*(fu1 + fu2)\n",
    "f_v = .5*(fv1 + fv2)\n",
    "\n",
    "zr = zeta.rolling(ocean_time=48)\n",
    "zavg = zr.mean()[47:]\n",
    "dzetamu = zavg[:, :, 1:] - zavg[:, :, :-1] \n",
    "dzetamv = zavg[:, 1:, :] - zavg[:, :-1, :]\n",
    "termu = dzetamu/dx_u\n",
    "termv = dzetamv/dy_v\n",
    "\n",
    "vg_u = (9.8/f_u)*termu\n",
    "ug_v = -(9.8/f_v)*termv\n",
    "vg_u = vg_u.transpose(\"ocean_time\", \"eta_rho\", \"xi_rho\", transpose_coords=False)\n",
    "ug_v = ug_v.transpose(\"ocean_time\", \"eta_rho\", \"xi_rho\", transpose_coords=False)\n",
    "vg_u = vg_u.rename(eta_rho=\"eta_u\", xi_rho=\"xi_u\")\n",
    "ug_v = ug_v.rename(eta_rho=\"eta_v\", xi_rho=\"xi_v\")\n",
    "vg_u = vg_u.fillna(0.0)\n",
    "ug_v = ug_v.fillna(0.0)"
   ]
  },
  {
   "cell_type": "code",
   "execution_count": null,
   "metadata": {},
   "outputs": [],
   "source": [
    "#put u & v on proper grid points\n",
    "ug_u = np.zeros((vg_u.shape[0],)+lonu.shape)#, chunks=(48, 300, 300))\n",
    "vg_v = np.zeros((vg_u.shape[0],)+lonv.shape)#, chunks=(48, 300, 300))\n",
    "\n",
    "ug_r = .5*(ug_v[:, :-1, :] + ug_v[:, 1:, :]) #v to rho\n",
    "ug_u[:, 1:-1, :] = .5*(ug_r[:, :, :-1] + ug_r[:, :, 1:]) #rho to u\n",
    "vg_r = .5*(vg_u[:, :, :-1] + vg_u[:, :, 1:])\n",
    "vg_v[:, :, 1:-1] = .5*(vg_r[:, :-1, :] + vg_r[:, 1:, :])\n",
    "\n",
    "ug_u = xr.DataArray(ug_u, coords=vg_u.coords, dims=vg_u.dims)\n",
    "vg_v = xr.DataArray(vg_v, coords=ug_v.coords, dims=ug_v.dims)"
   ]
  },
  {
   "cell_type": "markdown",
   "metadata": {},
   "source": [
    "**Verify Currents**"
   ]
  },
  {
   "cell_type": "code",
   "execution_count": null,
   "metadata": {},
   "outputs": [],
   "source": [
    "rsl = slice(-640, -620)\n",
    "csl = slice(-350, -330)\n",
    "plt.contour(lonrs[rsl, csl], latrs[rsl, csl], zavg[4, rsl, csl], 15)\n",
    "plt.quiver(lonrs[rsl, csl], latrs[rsl, csl], ug_u[4, rsl, csl], vg_v[4, rsl, csl])"
   ]
  },
  {
   "cell_type": "code",
   "execution_count": null,
   "metadata": {},
   "outputs": [],
   "source": [
    "plt.subplot(231)\n",
    "plt.contour(lonrs, latrs, zeta[1], 10)\n",
    "plt.subplot(232)\n",
    "plt.contour(lonrs, latrs, zavg[1], 10)\n",
    "plt.subplot(233)\n",
    "plt.contour(lonu, latu, dx_u, 20)\n",
    "plt.subplot(234)\n",
    "plt.contour(lonv, latv, dy_v, 20)\n",
    "plt.subplot(235)\n",
    "plt.contour(lonu[:100, :], latu[:100, :], f_u[:100, :])\n",
    "plt.subplot(236)\n",
    "plt.contour(lonrs, latrs, mr)\n",
    "#plt.quiver(lonrs[-600, -300], latrs[-600, -300], vg_u)"
   ]
  },
  {
   "cell_type": "code",
   "execution_count": null,
   "metadata": {},
   "outputs": [],
   "source": [
    "plt.contour(lonrs[rsl, csl], latrs[rsl, csl], zavg[1, rsl, csl], 15)\n",
    "plt.quiver(lonrs[rsl, csl], latrs[rsl, csl], ug_v[1, rsl, csl], vg_u[1, rsl, csl])"
   ]
  },
  {
   "cell_type": "code",
   "execution_count": null,
   "metadata": {},
   "outputs": [],
   "source": [
    "plt.subplot(121)\n",
    "plt.imshow(vg_u[3])\n",
    "plt.subplot(122)\n",
    "plt.imshow(dat[\"v_sur\"][3])"
   ]
  },
  {
   "cell_type": "markdown",
   "metadata": {},
   "source": [
    "**Save Geostrophic Currents**"
   ]
  },
  {
   "cell_type": "code",
   "execution_count": null,
   "metadata": {},
   "outputs": [],
   "source": [
    "gsl = []\n",
    "names = []\n",
    "for i in range(0, len(zavg.coords[\"ocean_time\"]), 24):\n",
    "    gsl.append(xr.Dataset({\"vg\":vg_v[i:i+24], \"ug\":ug_u[i:i+24]}))\n",
    "    names.append(f\"geostrophic_uv{int(i/24)}.nc\")\n",
    "xr.save_mfdataset(gsl,names,format=\"NETCDF4\")\n",
    "\n",
    "cl.close()"
   ]
  }
 ],
 "metadata": {
  "kernelspec": {
   "display_name": "Python 3",
   "language": "python",
   "name": "python3"
  },
  "language_info": {
   "codemirror_mode": {
    "name": "ipython",
    "version": 3
   },
   "file_extension": ".py",
   "mimetype": "text/x-python",
   "name": "python",
   "nbconvert_exporter": "python",
   "pygments_lexer": "ipython3",
   "version": "3.7.7"
  }
 },
 "nbformat": 4,
 "nbformat_minor": 4
}
